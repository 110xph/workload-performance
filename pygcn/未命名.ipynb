{
 "cells": [
  {
   "cell_type": "code",
   "execution_count": 2,
   "metadata": {},
   "outputs": [],
   "source": [
    "import json\n",
    "\n",
    "path = \"/Users/xuanhe/Downloads/pygcn-master/pygcn/\""
   ]
  },
  {
   "cell_type": "code",
   "execution_count": 6,
   "metadata": {},
   "outputs": [
    {
     "name": "stdout",
     "output_type": "stream",
     "text": [
      "[[[{'Plan': {'Actual Startup Time': 0.105, 'Plan Rows': 1, 'Node Type': 'Aggregate', 'Actual Loops': 1, 'Actual Total Time': 0.105, 'Actual Rows': 1, 'Plan Width': 22, 'Startup Cost': 114790.77, 'Strategy': 'Plain', 'Total Cost': 114790.78, 'Plans': [{'Actual Startup Time': 0.1, 'Plan Rows': 1, 'Actual Loops': 1, 'Startup Cost': 23.28, 'Plans': [{'Actual Startup Time': 0.099, 'Plan Rows': 1, 'Join Filter': '(mi.movie_id = t.id)', 'Actual Loops': 1, 'Startup Cost': 23.13, 'Rows Removed by Join Filter': 0, 'Plans': [{'Actual Startup Time': 0.099, 'Plan Rows': 1, 'Join Filter': '(mi_idx.movie_id = mi.movie_id)', 'Actual Loops': 1, 'Startup Cost': 22.7, 'Rows Removed by Join Filter': 0, 'Plans': [{'Actual Startup Time': 0.098, 'Plan Rows': 1, 'Actual Loops': 1, 'Startup Cost': 20.27, 'Plans': [{'Actual Startup Time': 0.098, 'Plan Rows': 47, 'Join Filter': '(mi.info_type_id = it1.id)', 'Actual Loops': 1, 'Startup Cost': 19.85, 'Rows Removed by Join Filter': 0, 'Plans': [{'Actual Startup Time': 0.016, 'Plan Rows': 1, 'Actual Loops': 1, 'Rows Removed by Filter': 112, 'Startup Cost': 0.0, 'Alias': 'it1', 'Node Type': 'Seq Scan', 'Actual Total Time': 0.036, 'Actual Rows': 1, 'Relation Name': 'info_type', 'Filter': \"((info)::text = 'countries'::text)\", 'Parent Relationship': 'Outer', 'Total Cost': 2.41, 'Plan Width': 4}, {'Actual Startup Time': 0.059, 'Plan Rows': 374, 'Actual Loops': 1, 'Startup Cost': 19.85, 'Hash Cond': '(mk.movie_id = mi.movie_id)', 'Plans': [{'Actual Startup Time': 0.017, 'Plan Rows': 4523930, 'Actual Loops': 1, 'Startup Cost': 0.0, 'Alias': 'mk', 'Node Type': 'Seq Scan', 'Actual Total Time': 0.017, 'Actual Rows': 1, 'Parent Relationship': 'Outer', 'Relation Name': 'movie_keyword', 'Total Cost': 69693.3, 'Plan Width': 8}, {'Actual Startup Time': 0.001, 'Plan Rows': 8, 'Peak Memory Usage': 8, 'Actual Loops': 1, 'Startup Cost': 19.75, 'Original Hash Batches': 1, 'Plans': [{'Actual Startup Time': 0.0, 'Plan Rows': 8, 'Actual Loops': 1, 'Rows Removed by Filter': 0, 'Startup Cost': 0.0, 'Alias': 'mi', 'Node Type': 'Seq Scan', 'Actual Total Time': 0.0, 'Actual Rows': 0, 'Relation Name': 'movie_info', 'Filter': \"(info = ANY ('{Romania,Japan}'::text[]))\", 'Parent Relationship': 'Outer', 'Total Cost': 19.75, 'Plan Width': 8}], 'Hash Buckets': 1024, 'Original Hash Buckets': 1024, 'Node Type': 'Hash', 'Actual Total Time': 0.001, 'Actual Rows': 0, 'Parent Relationship': 'Inner', 'Hash Batches': 1, 'Total Cost': 19.75, 'Plan Width': 8}], 'Join Type': 'Inner', 'Node Type': 'Hash Join', 'Actual Total Time': 0.059, 'Actual Rows': 0, 'Parent Relationship': 'Inner', 'Total Cost': 86681.63, 'Plan Width': 16}], 'Join Type': 'Inner', 'Node Type': 'Nested Loop', 'Actual Total Time': 0.098, 'Actual Rows': 0, 'Parent Relationship': 'Outer', 'Total Cost': 86688.72, 'Plan Width': 12}, {'Index Name': 'keyword_pkey', 'Actual Startup Time': 0.0, 'Relation Name': 'keyword', 'Actual Loops': 0, 'Plan Rows': 1, 'Startup Cost': 0.42, 'Rows Removed by Index Recheck': 0, 'Rows Removed by Filter': 0, 'Alias': 'k', 'Node Type': 'Index Scan', 'Scan Direction': 'Forward', 'Actual Total Time': 0.0, 'Actual Rows': 0, 'Index Cond': '(id = mk.keyword_id)', 'Filter': \"(keyword = ANY ('{tahlequah-oklahoma,reference-to-goliath,post-detox}'::text[]))\", 'Parent Relationship': 'Inner', 'Total Cost': 0.44, 'Plan Width': 4}], 'Join Type': 'Inner', 'Node Type': 'Nested Loop', 'Actual Total Time': 0.098, 'Actual Rows': 0, 'Parent Relationship': 'Outer', 'Total Cost': 86709.98, 'Plan Width': 8}, {'Actual Startup Time': 0.0, 'Plan Rows': 6481, 'Actual Loops': 0, 'Startup Cost': 2.43, 'Hash Cond': '(mi_idx.info_type_id = it2.id)', 'Plans': [{'Actual Startup Time': 0.0, 'Plan Rows': 732376, 'Actual Loops': 0, 'Rows Removed by Filter': 0, 'Startup Cost': 0.0, 'Alias': 'mi_idx', 'Node Type': 'Seq Scan', 'Actual Total Time': 0.0, 'Actual Rows': 0, 'Relation Name': 'movie_info_idx', 'Filter': \"(info > '2.9'::text)\", 'Parent Relationship': 'Outer', 'Total Cost': 25185.44, 'Plan Width': 13}, {'Actual Startup Time': 0.0, 'Plan Rows': 1, 'Node Type': 'Hash', 'Actual Loops': 0, 'Actual Total Time': 0.0, 'Actual Rows': 0, 'Startup Cost': 2.41, 'Plan Width': 4, 'Parent Relationship': 'Inner', 'Total Cost': 2.41, 'Plans': [{'Actual Startup Time': 0.0, 'Plan Rows': 1, 'Actual Loops': 0, 'Rows Removed by Filter': 0, 'Startup Cost': 0.0, 'Alias': 'it2', 'Node Type': 'Seq Scan', 'Actual Total Time': 0.0, 'Actual Rows': 0, 'Relation Name': 'info_type', 'Filter': \"((info)::text = 'rating'::text)\", 'Parent Relationship': 'Outer', 'Total Cost': 2.41, 'Plan Width': 4}]}], 'Join Type': 'Inner', 'Node Type': 'Hash Join', 'Actual Total Time': 0.0, 'Actual Rows': 0, 'Parent Relationship': 'Inner', 'Total Cost': 27999.08, 'Plan Width': 9}], 'Join Type': 'Inner', 'Node Type': 'Nested Loop', 'Actual Total Time': 0.099, 'Actual Rows': 0, 'Parent Relationship': 'Outer', 'Total Cost': 114790.08, 'Plan Width': 17}, {'Index Name': 'title_pkey', 'Actual Startup Time': 0.0, 'Relation Name': 'title', 'Actual Loops': 0, 'Plan Rows': 1, 'Startup Cost': 0.43, 'Rows Removed by Index Recheck': 0, 'Rows Removed by Filter': 0, 'Alias': 't', 'Node Type': 'Index Scan', 'Scan Direction': 'Forward', 'Actual Total Time': 0.0, 'Actual Rows': 0, 'Index Cond': '(id = mk.movie_id)', 'Filter': \"((production_year > 1917) AND ((title ~~ '%The%'::text) OR (title ~~ '%Nacht%'::text) OR (title ~~ '%Locale%'::text)))\", 'Parent Relationship': 'Inner', 'Total Cost': 0.5, 'Plan Width': 25}], 'Join Type': 'Inner', 'Node Type': 'Nested Loop', 'Actual Total Time': 0.099, 'Actual Rows': 0, 'Parent Relationship': 'Outer', 'Total Cost': 114790.59, 'Plan Width': 26}, {'Index Name': 'kind_type_pkey', 'Actual Startup Time': 0.0, 'Relation Name': 'kind_type', 'Actual Loops': 0, 'Plan Rows': 1, 'Startup Cost': 0.15, 'Rows Removed by Index Recheck': 0, 'Rows Removed by Filter': 0, 'Alias': 'kt', 'Node Type': 'Index Scan', 'Scan Direction': 'Forward', 'Actual Total Time': 0.0, 'Actual Rows': 0, 'Index Cond': '(id = t.kind_id)', 'Filter': \"((kind)::text = 'movie'::text)\", 'Parent Relationship': 'Inner', 'Total Cost': 0.17, 'Plan Width': 4}], 'Join Type': 'Inner', 'Node Type': 'Nested Loop', 'Actual Total Time': 0.1, 'Actual Rows': 0, 'Parent Relationship': 'Outer', 'Total Cost': 114790.77, 'Plan Width': 22}]}, 'Triggers': [], 'Planning Time': 6.917, 'Execution Time': 0.351}]]]\n"
     ]
    }
   ],
   "source": []
  },
  {
   "cell_type": "code",
   "execution_count": 7,
   "metadata": {},
   "outputs": [],
   "source": [
    "\n",
    "def plan2seq(root):\n",
    "    # sequence = []\n",
    "    # join_conditions = []\n",
    "    # node, join_condition = extract_info_from_node(root, alias2table)\n",
    "    # if join_condition != None:\n",
    "    #     join_conditions += join_condition\n",
    "    # sequence.append(node)\n",
    "    if 'Plans' in root:\n",
    "        for plan in root['Plans']:\n",
    "            \n",
    "            next_sequence, nxt_join_conditions = plan2seq(plan, alias2table)\n",
    "            sequence += next_sequence\n",
    "            join_conditions += next_join_conditions\n",
    "    else:\n",
    "        # leaf node\n",
    "        return \n",
    "    sequence.append(None)\n",
    "    return sequence, join_conditions\n",
    "\n",
    "# stk1 = []\n",
    "# stl2 = []\n",
    "id = id + 1\n",
    "stk1 = stk2 = [id]\n",
    "while stk1:\n",
    "    [cid, cnode] = stk1.pop(0)\n",
    "    \n",
    "    for plan in root[\"Plans\"]:\n",
    "    # a new node\n",
    "        [nid, nnode] = plan\n",
    "        stk1.append([nid, nnode])\n",
    "        stk2.append([nid, nnode])        \n",
    "        record([[cid, mark], nid, mark])\n",
    "# stk2\n",
    "\n",
    "        "
   ]
  },
  {
   "cell_type": "code",
   "execution_count": null,
   "metadata": {},
   "outputs": [],
   "source": [
    "class Node(object):\n",
    "    def __init__(self, data, left=None, right=None):\n",
    "        self.data = data\n",
    "        self.left = left\n",
    "        self.right = right\n",
    " \n",
    "tree = Node(1, Node(3, Node(7, Node(0)), Node(6)), Node(2, Node(5), Node(4)))\n",
    " \n",
    "## 15 层次遍历\n",
    "def lookup(root):\n",
    "    stack = [root]\n",
    "    while stack:\n",
    "        current = stack.pop(0)\n",
    "        print current.data\n",
    "        if current.left:\n",
    "            stack.append(current.left)\n",
    "        if current.right:\n",
    "            stack.append(current.right)\n",
    "            \n",
    "## 16 深度遍历\n",
    "def deep(root):\n",
    "    if not root:\n",
    "        return\n",
    "    print root.data\n",
    "    deep(root.left)\n",
    "    deep(root.right)\n",
    " \n",
    "    lookup(tree)\n",
    "    deep(tree)"
   ]
  },
  {
   "cell_type": "code",
   "execution_count": 9,
   "metadata": {},
   "outputs": [
    {
     "name": "stdout",
     "output_type": "stream",
     "text": [
      "1\n"
     ]
    }
   ],
   "source": [
    "stack = [1,2,3]\n",
    "\n"
   ]
  },
  {
   "cell_type": "code",
   "execution_count": null,
   "metadata": {},
   "outputs": [],
   "source": [
    "with open(path + \"tmp_data\", \"r\") as f:\n",
    "    for plan in f.readlines():                \n",
    "        if plan != 'null\\n':\n",
    "            plan = json.loads(plan)['Plan']\n",
    "            \n",
    "            \n",
    "            \n",
    "            # alias2table = {}\n",
    "            # get_alias2table(plan, alias2table)\n",
    "            # subplan, cost, cardinality = get_plan(plan)\n",
    "            seq, _ = plan2seq(subplan)\n",
    "            # seqs = PlanInSeq(seq, cost, cardinality)\n",
    "            out.write(class2json(seq)+'\\n')\n",
    "    \n"
   ]
  }
 ],
 "metadata": {
  "kernelspec": {
   "display_name": "Python 3",
   "language": "python",
   "name": "python3"
  },
  "language_info": {
   "codemirror_mode": {
    "name": "ipython",
    "version": 3
   },
   "file_extension": ".py",
   "mimetype": "text/x-python",
   "name": "python",
   "nbconvert_exporter": "python",
   "pygments_lexer": "ipython3",
   "version": "3.7.4"
  }
 },
 "nbformat": 4,
 "nbformat_minor": 2
}
